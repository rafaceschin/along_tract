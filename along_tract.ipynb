{
 "cells": [
  {
   "cell_type": "code",
   "execution_count": 1,
   "metadata": {},
   "outputs": [
    {
     "name": "stdout",
     "output_type": "stream",
     "text": [
      "Populating the interactive namespace from numpy and matplotlib\n"
     ]
    }
   ],
   "source": [
    "import numpy as np\n",
    "import csv\n",
    "from matplotlib import pyplot as plt\n",
    "import scipy.stats as stats\n",
    "from IPython.core.pylabtools import figsize\n",
    "from nipy import load_image, save_image\n",
    "from nipy.core.api import Image\n",
    "import pymc3 as pm\n",
    "import theano.tensor as T\n",
    "%pylab inline"
   ]
  },
  {
   "cell_type": "code",
   "execution_count": 4,
   "metadata": {},
   "outputs": [],
   "source": [
    "def get_data(nii_file):\n",
    "    image = load_image(nii_file)\n",
    "    return image.get_data() \n",
    "\n",
    " \n",
    "def linear_tract(tract_file, orientation):\n",
    "    #store linear plane angle and get metric\n",
    "    #output linear plane(for consistency)\n",
    "    pass\n",
    "    \n",
    "def search_tract(tract_file, orientation):\n",
    "    #define search place\n",
    "    # store plane angle and get metric  \n",
    "    # output plane and FA value?\n",
    "    pass\n",
    "\n"
   ]
  },
  {
   "cell_type": "code",
   "execution_count": null,
   "metadata": {},
   "outputs": [],
   "source": [
    "xskip = 70\n",
    "yskip = 55\n",
    "total_size = ksp_img.shape[1]/xskip * ksp_img.shape[0]/yskip\n",
    "blank = np.zeros(original.shape)\n",
    " \n",
    "fig = plt.figure(figsize=(15, 15)) \n",
    "gs = matplotlib.gridspec.GridSpec(2, 2,\n",
    "                                  height_ratios=[1, 1])\n",
    "\n",
    "ax1 = fig.add_subplot(gs[0])\n",
    "ax2 = fig.add_subplot(gs[1])\n",
    "ax3 = fig.add_subplot(gs[2])\n",
    "ax4 = fig.add_subplot(gs[3])\n",
    "\n",
    "ax1.set_title(\"Linear Tracking\", fontsize=25)\n",
    "ax1.set_xlim(0, ksp_img.shape[1])\n",
    "ax1.set_ylim(0, ksp_img.shape[0])\n",
    "ax1.axis('off')\n",
    "ax1.imshow(ksp_img, cmap=\"gray\", clim=(0.0, 0.002*np.max(ksp_img))) \n",
    "\n",
    "ax2.set_title(\"Search Tracking\", fontsize=25)\n",
    "ax2.set_xlim(0, ksp_img.shape[1])\n",
    "ax2.set_ylim(0, ksp_img.shape[0])\n",
    "ax2.axis('off')\n",
    "ax2.imshow(ksp_img, cmap=\"gray\", clim=(0.0, 0.002*np.max(ksp_img))) \n",
    " \n",
    "\n",
    "line1, = ax1.plot([],[], 'yo', markersize=10)\n",
    "line2, = ax2.plot([],[], 'ro', markersize=10)\n",
    "\n",
    "\n",
    "line = [line1, line2]\n",
    " \n",
    "def init():\n",
    "    line1.set_data([],[])\n",
    "    line2.set_data([],[])\n",
    "    return line\n",
    "\n",
    "\n",
    "def animate_linear():\n",
    "    xvals = []\n",
    "    yvals = []\n",
    "    for x in np.linspace(0, ksp_img.shape[1], ksp_img.shape[1]/xskip):\n",
    "        for y in np.linspace(0, ksp_img.shape[0], ksp_img.shape[0]/yskip):\n",
    "            xvals.append(x)\n",
    "            yvals.append(y) \n",
    "    return xvals, yvals\n",
    "\n",
    "def animate_scanning():\n",
    "    xrands = np.random.randint(0, ksp_img.shape[1], total_size/2)\n",
    "    yrands = np.random.randint(0, ksp_img.shape[0], total_size/2) \n",
    "    xvals = np.append(xrands, xrands)\n",
    "    yvals = np.append(yrands, yrands)\n",
    "    return xvals, yvals\n",
    " \n",
    "linear = animate_linear()\n",
    "scanning = animate_random()\n",
    "\n",
    "#animation function\n",
    "# the i indexes up to what point the function will animate in each frame\n",
    "def animate(i):  \n",
    "    line1.set_data(linear[0][:i], linear[1][:i])\n",
    "    line2.set_data(scanning[0][:i], scanning[1][:i])   \n",
    "#    if i == total_size/2:\n",
    "#        ax5.imshow(arrow, cmap=\"gray\", aspect=0.8, extent=[-1, 1, -1, 1]) \n",
    "    return line\n",
    "    \n",
    "#animation.verbose.set_level('debug')\n",
    "animation.verbose.set_level('helpful')\n",
    "anim = animation.FuncAnimation(fig, animate, init_func=init, \n",
    "                              frames=total_size + 60, interval=80, blit=True)\n",
    "\n",
    "anim.save(\"along_tract.mp4\", fps=30, writer='ffmpeg', extra_args=['-vcodec', 'libx264'])  \n",
    "plt.show()"
   ]
  }
 ],
 "metadata": {
  "kernelspec": {
   "display_name": "Python 3",
   "language": "python",
   "name": "python3"
  },
  "language_info": {
   "codemirror_mode": {
    "name": "ipython",
    "version": 3
   },
   "file_extension": ".py",
   "mimetype": "text/x-python",
   "name": "python",
   "nbconvert_exporter": "python",
   "pygments_lexer": "ipython3",
   "version": "3.6.8"
  }
 },
 "nbformat": 4,
 "nbformat_minor": 2
}
